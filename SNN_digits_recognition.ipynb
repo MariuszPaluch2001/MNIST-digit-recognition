{
  "nbformat": 4,
  "nbformat_minor": 0,
  "metadata": {
    "colab": {
      "provenance": []
    },
    "kernelspec": {
      "name": "python3",
      "display_name": "Python 3"
    },
    "language_info": {
      "name": "python"
    },
    "gpuClass": "standard",
    "accelerator": "GPU"
  },
  "cells": [
    {
      "cell_type": "code",
      "source": [
        "!pip install nengo\n",
        "!pip install nengo_dl"
      ],
      "metadata": {
        "id": "2CSu76j8G_cz"
      },
      "execution_count": null,
      "outputs": []
    },
    {
      "cell_type": "code",
      "execution_count": null,
      "metadata": {
        "id": "wmgwRbh4GWtX"
      },
      "outputs": [],
      "source": [
        "import nengo\n",
        "import nengo_dl\n",
        "\n",
        "import tensorflow as tf\n",
        "\n",
        "import numpy as np\n",
        "import matplotlib.pyplot as plt"
      ]
    },
    {
      "cell_type": "code",
      "source": [
        "(X_train, y_train), (X_test, y_test) = tf.keras.datasets.mnist.load_data()"
      ],
      "metadata": {
        "id": "QsA54PiZHmL6"
      },
      "execution_count": null,
      "outputs": []
    },
    {
      "cell_type": "code",
      "source": [
        "print(f\"X_train.shape={X_train.shape}\")\n",
        "print(f\"y_train.shape={y_train.shape}\")\n",
        "print(f\"X_test.shape={X_test.shape}\")\n",
        "print(f\"y_test.shape={y_test.shape}\")"
      ],
      "metadata": {
        "id": "a70aixePH3KD"
      },
      "execution_count": null,
      "outputs": []
    },
    {
      "cell_type": "code",
      "source": [
        "X_train = X_train.reshape((X_train.shape[0], -1))\n",
        "X_test = X_test.reshape((X_test.shape[0], -1))"
      ],
      "metadata": {
        "id": "nWXI3EKNIJTe"
      },
      "execution_count": null,
      "outputs": []
    },
    {
      "cell_type": "code",
      "source": [
        "print(f\"X_train.shape={X_train.shape}\")\n",
        "print(f\"X_test.shape={X_test.shape}\")"
      ],
      "metadata": {
        "id": "elftPKd0Iw8-"
      },
      "execution_count": null,
      "outputs": []
    },
    {
      "cell_type": "code",
      "source": [
        "for i in range(3):\n",
        "  plt.figure()\n",
        "  plt.imshow(np.reshape(X_train[i], (28,28)), cmap='gray')\n",
        "  plt.axis('off')\n",
        "  plt.title(y_train[i])"
      ],
      "metadata": {
        "id": "cD41-zkiffmZ"
      },
      "execution_count": null,
      "outputs": []
    },
    {
      "cell_type": "code",
      "source": [
        "AMP = 0.01\n",
        "MINIBATCH_SIZE = 200\n",
        "LR = 0.001\n",
        "EPOCHS = 10"
      ],
      "metadata": {
        "id": "xMKwqYy6MN6B"
      },
      "execution_count": null,
      "outputs": []
    },
    {
      "cell_type": "code",
      "source": [
        "with nengo.Network(seed=0) as net:\n",
        "\n",
        "  net.config[nengo.Ensemble].max_rates = nengo.dists.Choice([100])\n",
        "  net.config[nengo.Ensemble].intercepts = nengo.dists.Choice([0])\n",
        "  net.config[nengo.Connection].synapse = None\n",
        "\n",
        "  neuron_type = nengo.LIF(amplitude = AMP)\n",
        "\n",
        "  nengo_dl.configure_settings(stateful = False)\n",
        "\n",
        "  intput_node = nengo.Node(np.zeros(28 * 28))\n",
        "\n",
        "  x = nengo_dl.Layer(tf.keras.layers.Conv2D(\n",
        "      filters=32, kernel_size=3\n",
        "  ))(intput_node, shape_in= (28, 28 ,1))\n",
        "\n",
        "  x =  nengo_dl.Layer(neuron_type)(x)\n",
        "\n",
        "  x = nengo_dl.Layer(tf.keras.layers.Conv2D(\n",
        "      filters=64, strides=2, kernel_size=3\n",
        "  ))(x, shape_in= (26, 26 , 32))\n",
        "  \n",
        "  x =  nengo_dl.Layer(neuron_type)(x)\n",
        "\n",
        "  x = nengo_dl.Layer(tf.keras.layers.Conv2D(\n",
        "      filters=128, strides=2, kernel_size=3\n",
        "  ))(x, shape_in= (12, 12 , 64))\n",
        "  \n",
        "  x =  nengo_dl.Layer(neuron_type)(x)\n",
        "\n",
        "  out = nengo_dl.Layer(tf.keras.layers.Dense(\n",
        "      units=10\n",
        "  ))(x)\n",
        "\n",
        "  out_probe = nengo.Probe(out, label=\"out_probe\")\n",
        "  out_probe_filter = nengo.Probe(out, synapse=0.1, label=\"out_probe_filter\")"
      ],
      "metadata": {
        "id": "yLG67FLrI8yX"
      },
      "execution_count": null,
      "outputs": []
    },
    {
      "cell_type": "code",
      "source": [
        "simulator = nengo_dl.Simulator(net, minibatch_size = MINIBATCH_SIZE)"
      ],
      "metadata": {
        "id": "vPeCcflUR6Yi"
      },
      "execution_count": null,
      "outputs": []
    },
    {
      "cell_type": "code",
      "source": [
        "X_train = X_train[:, None, :]\n",
        "y_train = y_train[:, None, None]"
      ],
      "metadata": {
        "id": "BBx8OADRUjri"
      },
      "execution_count": null,
      "outputs": []
    },
    {
      "cell_type": "code",
      "source": [
        "numb_steps = 30\n",
        "\n",
        "X_test = np.tile(X_test[:, None, :], (1, numb_steps, 1))\n",
        "y_test = np.tile(y_test[:, None, None], (1, numb_steps, 1))"
      ],
      "metadata": {
        "id": "hcgrPJ2sU-bE"
      },
      "execution_count": null,
      "outputs": []
    },
    {
      "cell_type": "code",
      "source": [
        "def accuracy(y_label, y_pred):\n",
        "  return tf.metrics.sparse_categorical_accuracy(\n",
        "        y_label[:, -1], y_pred[:, -1])"
      ],
      "metadata": {
        "id": "9fx69tuQVWX8"
      },
      "execution_count": null,
      "outputs": []
    },
    {
      "cell_type": "code",
      "source": [
        "simulator.compile(loss=({out_probe_filter: accuracy}))"
      ],
      "metadata": {
        "id": "tE_9QBIeXSd6"
      },
      "execution_count": null,
      "outputs": []
    },
    {
      "cell_type": "code",
      "source": [
        "print(\"accuracy before training:\",\n",
        "      simulator.evaluate(X_test, {out_probe_filter: y_test}, verbose=0)[\"loss\"])"
      ],
      "metadata": {
        "id": "Up1DWyKsXiag",
        "colab": {
          "base_uri": "https://localhost:8080/"
        },
        "outputId": "b41e8c74-1369-4f79-da3c-36c4f0b37095"
      },
      "execution_count": null,
      "outputs": [
        {
          "output_type": "stream",
          "name": "stdout",
          "text": [
            "accuracy before training: 0.08919999748468399\n"
          ]
        }
      ]
    },
    {
      "cell_type": "code",
      "source": [
        "simulator.compile(\n",
        "    optimizer=tf.optimizers.RMSprop(LR),\n",
        "    loss={out_probe : tf.losses.SparseCategoricalCrossentropy(from_logits=True)}\n",
        ")\n",
        "simulator.fit(X_train, {out_probe: y_train}, epochs=EPOCHS)"
      ],
      "metadata": {
        "id": "tG4NbKuvcFfH"
      },
      "execution_count": null,
      "outputs": []
    },
    {
      "cell_type": "code",
      "source": [
        "simulator.compile(loss=({out_probe_filter: accuracy}))"
      ],
      "metadata": {
        "id": "ZC6xDbUTczxy"
      },
      "execution_count": null,
      "outputs": []
    },
    {
      "cell_type": "code",
      "source": [
        "print(\"accuracy after training:\",\n",
        "      simulator.evaluate(X_test, {out_probe_filter: y_test}, verbose=0)[\"loss\"])"
      ],
      "metadata": {
        "id": "KHGaDlp_dAKU"
      },
      "execution_count": null,
      "outputs": []
    },
    {
      "cell_type": "code",
      "source": [
        "data = simulator.predict(X_test[:MINIBATCH_SIZE])\n",
        "\n",
        "for i in range(5):\n",
        "    plt.figure()\n",
        "    plt.subplot(1, 2, 1)\n",
        "    plt.imshow(X_test[i, 0].reshape((28, 28)), cmap=\"gray\")\n",
        "    plt.axis('off')\n",
        "\n",
        "    plt.subplot(1, 2, 2)\n",
        "    plt.plot(data[out_probe_filter][i])\n",
        "    plt.legend([str(i) for i in range(10)], loc=\"upper left\")\n",
        "    plt.xlabel(\"timesteps\")"
      ],
      "metadata": {
        "id": "vxtUOOuDgyL0"
      },
      "execution_count": null,
      "outputs": []
    }
  ]
}
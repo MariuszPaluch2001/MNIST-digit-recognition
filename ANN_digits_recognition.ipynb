{
  "nbformat": 4,
  "nbformat_minor": 0,
  "metadata": {
    "colab": {
      "provenance": []
    },
    "kernelspec": {
      "name": "python3",
      "display_name": "Python 3"
    },
    "language_info": {
      "name": "python"
    },
    "accelerator": "GPU",
    "gpuClass": "standard"
  },
  "cells": [
    {
      "cell_type": "code",
      "execution_count": 1,
      "metadata": {
        "id": "wSpuUyQH1DKs"
      },
      "outputs": [],
      "source": [
        "import torch\n",
        "import torch.nn as nn\n",
        "import torch.nn.functional as F\n",
        "import torch.optim as optim\n",
        "\n",
        "import torchvision\n",
        "import torchvision.transforms as transforms\n",
        "\n",
        "import matplotlib.pyplot as plt\n"
      ]
    },
    {
      "cell_type": "code",
      "source": [
        "device = torch.device(\"cuda\")"
      ],
      "metadata": {
        "id": "H7I_SbqRVpAj"
      },
      "execution_count": 2,
      "outputs": []
    },
    {
      "cell_type": "code",
      "source": [
        "BATCH_SIZE = 32"
      ],
      "metadata": {
        "id": "yiVl9FlO5Pcm"
      },
      "execution_count": 3,
      "outputs": []
    },
    {
      "cell_type": "code",
      "source": [
        "transform = transforms.Compose(\n",
        "    [transforms.ToTensor(),\n",
        "     transforms.Normalize((0.1307,), (0.3081,))])\n",
        "\n",
        "\n",
        "trainset = torchvision.datasets.MNIST(root='./data', train=True,\n",
        "                                        download=True, transform=transform)\n",
        "trainloader = torch.utils.data.DataLoader(trainset, batch_size=BATCH_SIZE,\n",
        "                                          shuffle=True, num_workers=2)\n",
        "\n",
        "testset = torchvision.datasets.MNIST(root='./data', train=False,\n",
        "                                       download=True, transform=transform)\n",
        "testloader = torch.utils.data.DataLoader(testset, batch_size=BATCH_SIZE,\n",
        "                                         shuffle=False, num_workers=2)"
      ],
      "metadata": {
        "id": "Eb8oZi-4F8PN"
      },
      "execution_count": 30,
      "outputs": []
    },
    {
      "cell_type": "code",
      "source": [
        "trainset.data.shape"
      ],
      "metadata": {
        "id": "1eg0YnvU4j4Y"
      },
      "execution_count": null,
      "outputs": []
    },
    {
      "cell_type": "code",
      "source": [
        "examples = enumerate(testloader)\n",
        "idx, (data,label) = next(examples)"
      ],
      "metadata": {
        "id": "FCguZ85Q9i9f"
      },
      "execution_count": 6,
      "outputs": []
    },
    {
      "cell_type": "code",
      "source": [
        "data.shape"
      ],
      "metadata": {
        "colab": {
          "base_uri": "https://localhost:8080/"
        },
        "id": "73ud-EeR_5kn",
        "outputId": "41cfa935-92d7-4260-8b8e-74e2ca6331a4"
      },
      "execution_count": 7,
      "outputs": [
        {
          "output_type": "execute_result",
          "data": {
            "text/plain": [
              "torch.Size([32, 1, 28, 28])"
            ]
          },
          "metadata": {},
          "execution_count": 7
        }
      ]
    },
    {
      "cell_type": "code",
      "source": [
        "fig = plt.figure(figsize=(12, 12))\n",
        "for i in range(9):\n",
        "  plt.subplot(3,3, i + 1)\n",
        "  plt.tight_layout()\n",
        "  plt.imshow(data[i][0], cmap='gray', interpolation='none')\n",
        "  plt.title(f\"Ground truth: {label[i]}\")\n",
        "  plt.xticks([])\n",
        "  plt.yticks([])"
      ],
      "metadata": {
        "id": "sGNq_Uif_66N"
      },
      "execution_count": null,
      "outputs": []
    },
    {
      "cell_type": "code",
      "source": [
        "class Net(nn.Module):\n",
        "    def __init__(self):\n",
        "        super().__init__()\n",
        "        ## Warstwa konwolucyjna\n",
        "        self.conv1 = nn.Conv2d(in_channels=1, out_channels=6, kernel_size=5, stride=1, padding=0)\n",
        "        ## Warstwa max pooling \n",
        "        self.pool1 = nn.MaxPool2d(kernel_size=2, stride=2)\n",
        "        self.conv2 = nn.Conv2d(6, 16, 5)\n",
        "        self.pool2 = nn.MaxPool2d(2)\n",
        "        self.fc1 = nn.Linear(256, 128)\n",
        "        self.fc2 = nn.Linear(128, 64)\n",
        "        self.fc3 = nn.Linear(64, 10)\n",
        "\n",
        "    def forward(self, x):\n",
        "        x = self.pool1(F.relu(self.conv1(x)))\n",
        "        x = self.pool2(F.relu(self.conv2(x)))\n",
        "        x = torch.flatten(x, 1) # flatten all dimensions except batch\n",
        "        x = F.relu(self.fc1(x))\n",
        "        x = F.relu(self.fc2(x))\n",
        "        x = self.fc3(x)\n",
        "        return x"
      ],
      "metadata": {
        "id": "hEgSUDhlVL-r"
      },
      "execution_count": 9,
      "outputs": []
    },
    {
      "cell_type": "code",
      "source": [
        "net = Net().to(device)\n",
        "net"
      ],
      "metadata": {
        "id": "decgm1fGV7C3"
      },
      "execution_count": null,
      "outputs": []
    },
    {
      "cell_type": "code",
      "source": [
        "criterion = nn.CrossEntropyLoss()\n",
        "optimizer = optim.Adam(net.parameters(), lr=0.001)"
      ],
      "metadata": {
        "id": "R6J_yed5V9l2"
      },
      "execution_count": 11,
      "outputs": []
    },
    {
      "cell_type": "code",
      "source": [
        "net.train()\n",
        "for epoch in range(5): \n",
        "\n",
        "    running_loss = 0.0\n",
        "    for i, data in enumerate(trainloader, 0):\n",
        "        inputs, labels = data\n",
        "        inputs, labels = inputs.to(device), labels.to(device)\n",
        "\n",
        "        optimizer.zero_grad()\n",
        "\n",
        "        outputs = net(inputs)\n",
        "        loss = criterion(outputs, labels)\n",
        "        loss.backward()\n",
        "        optimizer.step()\n",
        "\n",
        "        running_loss += loss.item()\n",
        "\n",
        "    print('[%d/5] loss: %.3f' %\n",
        "          (epoch+1 ,  running_loss / 2000))\n",
        "    running_loss = 0.0\n",
        "\n",
        "print('Finished Training')"
      ],
      "metadata": {
        "id": "lJxDKIcOWPvm"
      },
      "execution_count": null,
      "outputs": []
    },
    {
      "cell_type": "code",
      "source": [
        "import numpy as np\n",
        "def imshow(img, img_number, labels):\n",
        "  fig = plt.figure(figsize=(18, 18))\n",
        "  for i in range(img_number):\n",
        "    plt.subplot(int(img_number**0.5),int(img_number**0.5), i + 1)\n",
        "    plt.tight_layout()\n",
        "    plt.imshow(img[i][0], cmap='gray', interpolation='none')\n",
        "    plt.title(f\"Ground truth: {labels[i]}\")\n",
        "    plt.xticks([])\n",
        "    plt.yticks([])"
      ],
      "metadata": {
        "id": "mMxhMRCfZaNA"
      },
      "execution_count": 13,
      "outputs": []
    },
    {
      "cell_type": "code",
      "source": [
        "numb_examples = 16\n",
        "examples = enumerate(testloader)\n",
        "idx, (images, labels) = next(examples)\n",
        "images = images[:numb_examples]\n",
        "\n",
        "# print images\n",
        "imshow(images, numb_examples, labels)"
      ],
      "metadata": {
        "id": "ajNVgPL2ZPFc"
      },
      "execution_count": null,
      "outputs": []
    },
    {
      "cell_type": "code",
      "source": [
        "net.eval()\n",
        "outputs = net(images.to(device))\n",
        "outputs"
      ],
      "metadata": {
        "id": "dCkCkZ9qab7H"
      },
      "execution_count": null,
      "outputs": []
    },
    {
      "cell_type": "code",
      "source": [
        "_, predicted = torch.max(outputs, 1)\n",
        "\n",
        "print('Predicted:    ', ' '.join('%5s' % int(predicted[j])\n",
        "                              for j in range(numb_examples)))\n",
        "print('Ground truth: ', ' '.join('%5s' % int(labels[j])\n",
        "                              for j in range(numb_examples)))"
      ],
      "metadata": {
        "id": "HoUsB69sadkD"
      },
      "execution_count": null,
      "outputs": []
    },
    {
      "cell_type": "code",
      "source": [
        "corrects = 0\n",
        "total = 0\n",
        "net.eval()\n",
        "for images, labels in testloader:\n",
        "  images = images.to(device)\n",
        "  labels = labels.to(device)\n",
        "  outputs = net(images)\n",
        "  _, predicted = torch.max(outputs, 1)\n",
        "  corrects += (labels == predicted).sum().item()\n",
        "  total += len(labels)\n",
        "print(f\"Accuracy: {corrects / total}\")"
      ],
      "metadata": {
        "id": "4_yOfTHnjuXk"
      },
      "execution_count": null,
      "outputs": []
    },
    {
      "cell_type": "code",
      "source": [
        "from google.colab import files\n",
        "uploaded = files.upload()"
      ],
      "metadata": {
        "id": "4QfoddAqpRCn"
      },
      "execution_count": null,
      "outputs": []
    },
    {
      "cell_type": "code",
      "source": [
        "from PIL import Image\n",
        "from io import BytesIO\n",
        "img = Image.open(BytesIO(uploaded['image.png'])).convert('L')\n",
        "img = np.asarray(img)\n",
        "plt.imshow(img)\n",
        "plt.show()"
      ],
      "metadata": {
        "id": "OHfDzFTrrXAP"
      },
      "execution_count": null,
      "outputs": []
    },
    {
      "cell_type": "code",
      "source": [
        "type(img)"
      ],
      "metadata": {
        "id": "bJeZmEJPr7UN"
      },
      "execution_count": null,
      "outputs": []
    },
    {
      "cell_type": "code",
      "source": [
        "transform = transforms.Compose(\n",
        "  [transforms.ToTensor(),\n",
        "     transforms.Normalize((0.1307,), (0.3081,))\n",
        "])"
      ],
      "metadata": {
        "id": "PVDUd_8orn5_"
      },
      "execution_count": 257,
      "outputs": []
    },
    {
      "cell_type": "code",
      "source": [
        "img_tensor = transform(img.astype(np.float32))\n",
        "img_tensor = torch.unsqueeze(img_tensor, dim=0)"
      ],
      "metadata": {
        "id": "GOIjv_jose_H"
      },
      "execution_count": 258,
      "outputs": []
    },
    {
      "cell_type": "code",
      "source": [
        "plt.imshow(img_tensor[0][0], cmap='gray', interpolation='none')\n",
        "plt.show()"
      ],
      "metadata": {
        "id": "ezf-_PULvHHJ"
      },
      "execution_count": null,
      "outputs": []
    },
    {
      "cell_type": "code",
      "source": [
        "img_tensor.shape"
      ],
      "metadata": {
        "id": "SwKaTmq_ueFV"
      },
      "execution_count": null,
      "outputs": []
    },
    {
      "cell_type": "code",
      "source": [
        "net.eval()\n",
        "outputs = net(img_tensor.to(device))\n",
        "outputs"
      ],
      "metadata": {
        "id": "mfeiq9YGsjCQ"
      },
      "execution_count": null,
      "outputs": []
    },
    {
      "cell_type": "code",
      "source": [
        "_, predicted = torch.max(outputs, 1)\n",
        "print(f\"Predicted: {predicted[0]}\")"
      ],
      "metadata": {
        "id": "uIuvkRAFvw_g"
      },
      "execution_count": null,
      "outputs": []
    }
  ]
}